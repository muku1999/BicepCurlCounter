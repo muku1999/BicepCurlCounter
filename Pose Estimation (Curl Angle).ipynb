{
 "cells": [
  {
   "cell_type": "markdown",
   "metadata": {
    "id": "47NcMZ_mkzS5"
   },
   "source": [
    "# Importing the required libraries"
   ]
  },
  {
   "cell_type": "code",
   "execution_count": 1,
   "metadata": {
    "colab": {
     "base_uri": "https://localhost:8080/"
    },
    "id": "tYwaVvg-kvik",
    "outputId": "acda90d0-ce05-47af-a925-7bf8631f3e42"
   },
   "outputs": [
    {
     "name": "stdout",
     "output_type": "stream",
     "text": [
      "Requirement already satisfied: mediapipe in c:\\users\\asus\\anaconda3\\lib\\site-packages (0.9.0.1)\n",
      "Requirement already satisfied: flatbuffers>=2.0 in c:\\users\\asus\\anaconda3\\lib\\site-packages (from mediapipe) (22.9.24)\n",
      "Requirement already satisfied: protobuf<4,>=3.11 in c:\\users\\asus\\anaconda3\\lib\\site-packages (from mediapipe) (3.19.1)\n",
      "Requirement already satisfied: attrs>=19.1.0 in c:\\users\\asus\\anaconda3\\lib\\site-packages (from mediapipe) (21.4.0)\n",
      "Requirement already satisfied: numpy in c:\\users\\asus\\anaconda3\\lib\\site-packages (from mediapipe) (1.21.5)\n",
      "Requirement already satisfied: absl-py in c:\\users\\asus\\anaconda3\\lib\\site-packages (from mediapipe) (1.3.0)\n",
      "Requirement already satisfied: opencv-contrib-python in c:\\users\\asus\\anaconda3\\lib\\site-packages (from mediapipe) (4.6.0.66)\n",
      "Requirement already satisfied: matplotlib in c:\\users\\asus\\anaconda3\\lib\\site-packages (from mediapipe) (3.5.1)\n",
      "Requirement already satisfied: cycler>=0.10 in c:\\users\\asus\\anaconda3\\lib\\site-packages (from matplotlib->mediapipe) (0.11.0)\n",
      "Requirement already satisfied: fonttools>=4.22.0 in c:\\users\\asus\\anaconda3\\lib\\site-packages (from matplotlib->mediapipe) (4.25.0)\n",
      "Requirement already satisfied: pillow>=6.2.0 in c:\\users\\asus\\anaconda3\\lib\\site-packages (from matplotlib->mediapipe) (9.0.1)\n",
      "Requirement already satisfied: python-dateutil>=2.7 in c:\\users\\asus\\anaconda3\\lib\\site-packages (from matplotlib->mediapipe) (2.8.2)\n",
      "Requirement already satisfied: pyparsing>=2.2.1 in c:\\users\\asus\\anaconda3\\lib\\site-packages (from matplotlib->mediapipe) (3.0.4)\n",
      "Requirement already satisfied: packaging>=20.0 in c:\\users\\asus\\anaconda3\\lib\\site-packages (from matplotlib->mediapipe) (21.3)\n",
      "Requirement already satisfied: kiwisolver>=1.0.1 in c:\\users\\asus\\anaconda3\\lib\\site-packages (from matplotlib->mediapipe) (1.3.2)\n",
      "Requirement already satisfied: six>=1.5 in c:\\users\\asus\\anaconda3\\lib\\site-packages (from python-dateutil>=2.7->matplotlib->mediapipe) (1.16.0)\n",
      "Collecting opencv-python\n",
      "  Downloading opencv_python-4.6.0.66-cp36-abi3-win_amd64.whl (35.6 MB)\n",
      "Requirement already satisfied: numpy>=1.14.5 in c:\\users\\asus\\anaconda3\\lib\\site-packages (from opencv-python) (1.21.5)\n",
      "Installing collected packages: opencv-python\n",
      "Successfully installed opencv-python-4.6.0.66\n"
     ]
    }
   ],
   "source": [
    "!pip install mediapipe\n",
    "!pip install opencv-python"
   ]
  },
  {
   "cell_type": "code",
   "execution_count": 1,
   "metadata": {
    "id": "xJjsRPQRlCWD"
   },
   "outputs": [],
   "source": [
    "import cv2\n",
    "import mediapipe as mp\n",
    "import numpy as np"
   ]
  },
  {
   "cell_type": "code",
   "execution_count": 2,
   "metadata": {
    "id": "gUVYcq0emeQV"
   },
   "outputs": [],
   "source": [
    "# to visualize the pose \n",
    "mp_drawing = mp.solutions.drawing_utils\n",
    "\n",
    "# to import pose estimation model from the solutions section of mediapipe\n",
    "mp_pose = mp.solutions.pose"
   ]
  },
  {
   "cell_type": "code",
   "execution_count": 3,
   "metadata": {
    "id": "CgvpX32ZnLyL"
   },
   "outputs": [],
   "source": [
    "# VIDEO FEED\n",
    "# capture images from webcam \n",
    "cap = cv2.VideoCapture(0)\n",
    "# loop to extract the images from camera \n",
    "while cap.isOpened():\n",
    "  # frame stores the image from the camera\n",
    "  ret,frame = cap.read()\n",
    "  # shows the image \n",
    "  cv2.imshow('Video Feed',frame)\n",
    "  # breaks the loop (no longer video capture)\n",
    "  if cv2.waitKey(10) & 0xFF == ord('q'):\n",
    "    break\n",
    "\n",
    "# after breaking the loop release the camera\n",
    "cap.release()\n",
    "# after releasing the camera close the pop-up window of webcam\n",
    "cv2.destroyAllWindows()\n"
   ]
  },
  {
   "cell_type": "markdown",
   "metadata": {
    "id": "bvZYfRt9wIl6"
   },
   "source": [
    "## Making Detection "
   ]
  },
  {
   "cell_type": "code",
   "execution_count": 17,
   "metadata": {
    "id": "sxkXkpXTpoio"
   },
   "outputs": [],
   "source": [
    "\n",
    "# capture images from webcam \n",
    "cap = cv2.VideoCapture(0)\n",
    "with mp_pose.Pose(min_detection_confidence= 0.5 ,min_tracking_confidence= 0.5) as pose:\n",
    "  # loop to extract the images from camera \n",
    "  while cap.isOpened():\n",
    "    # frame stores the image from the camera\n",
    "    ret,frame = cap.read()\n",
    "\n",
    "    # recolor the image to RGB\n",
    "    image = cv2.cvtColor(frame,cv2.COLOR_BGR2RGB)\n",
    "    image.flags.writeable = False\n",
    "\n",
    "    # process the image (make detection)\n",
    "    results = pose.process(image)\n",
    "\n",
    "    # recolor the image back to BGR\n",
    "    image = cv2.cvtColor(frame, cv2.COLOR_RGB2BGR)\n",
    "    image.flags.writeable = True\n",
    "\n",
    "    # render the image (1 -image , 2- coordinates of the landmarks , 3 - connection between these landmarks)\n",
    "    mp_drawing.draw_landmarks(image, results.pose_landmarks,mp_pose.POSE_CONNECTIONS,\n",
    "                              # drawing specification(joint) - color , thickness and radius of circle\n",
    "                              mp_drawing.DrawingSpec(color = (245,117,66) ,thickness = 2 ,circle_radius= 2),\n",
    "                              # drawin specification(connection) - color , thickness and radius of circle\n",
    "                             mp_drawing.DrawingSpec(color = (245,66,230) , thickness = 2, circle_radius =2)\n",
    "                              )\n",
    "\n",
    "\n",
    "    # shows the image \n",
    "    cv2.imshow('Video Feed',image)\n",
    "    # breaks the loop (no longer video capture): press q to close the feed \n",
    "    if cv2.waitKey(10) & 0xFF == ord('q'):\n",
    "      break\n",
    "\n",
    "  # after breaking the loop release the camera\n",
    "  cap.release()\n",
    "  # after releasing the camera close the pop-up window of webcam\n",
    "  cv2.destroyAllWindows()\n",
    "\n"
   ]
  },
  {
   "cell_type": "markdown",
   "metadata": {
    "id": "PVSvdsiEBy9_"
   },
   "source": [
    "## Determining Joints"
   ]
  },
  {
   "cell_type": "code",
   "execution_count": 32,
   "metadata": {
    "id": "-4hxUlsI5xlw"
   },
   "outputs": [],
   "source": [
    "\n",
    "# capture images from webcam \n",
    "cap = cv2.VideoCapture(0)\n",
    "with mp_pose.Pose(min_detection_confidence= 0.5 ,min_tracking_confidence= 0.5) as pose:\n",
    "  # loop to extract the images from camera \n",
    "  while cap.isOpened():\n",
    "    # frame stores the image from the camera\n",
    "    ret,frame = cap.read()\n",
    "\n",
    "    # recolor the image to RGB\n",
    "    image = cv2.cvtColor(frame,cv2.COLOR_BGR2RGB)\n",
    "    image.flags.writeable = False\n",
    "\n",
    "    # process the image (make detection)\n",
    "    results = pose.process(image)\n",
    "\n",
    "    # recolor the image back to BGR\n",
    "    image = cv2.cvtColor(frame, cv2.COLOR_RGB2BGR)\n",
    "    image.flags.writeable = True\n",
    "\n",
    "    # extract the landmarks - we use try & except because the cam. might not always capture the landmarks \n",
    "    try:\n",
    "      landmarks = results.pose_landmarks.landmark\n",
    "    except:\n",
    "      pass\n",
    "\n",
    "    # render the image (1 -image , 2- coordinates of the landmarks , 3 - connection between these landmarks)\n",
    "    mp_drawing.draw_landmarks(image, results.pose_landmarks,mp_pose.POSE_CONNECTIONS,\n",
    "                              # drawing specification(joint) - color , thickness and radius of circle\n",
    "                              mp_drawing.DrawingSpec(color = (245,117,66) ,thickness = 2 ,circle_radius= 2),\n",
    "                              # drawin specification(connection) - color , thickness and radius of circle\n",
    "                              mp_drawing.DrawingSpec(color = (245,66,230) , thickness = 2, circle_radius =2)\n",
    "                              )\n",
    "\n",
    "\n",
    "    # shows the image \n",
    "    cv2.imshow('Video Feed',image)\n",
    "    # breaks the loop (no longer video capture): press q to close the feed \n",
    "    if cv2.waitKey(10) & 0xFF == ord('q'):\n",
    "      break\n",
    "\n",
    "  # after breaking the loop release the camera\n",
    "  cap.release()\n",
    "  # after releasing the camera close the pop-up window of webcam\n",
    "  cv2.destroyAllWindows()\n",
    "\n"
   ]
  },
  {
   "cell_type": "code",
   "execution_count": 38,
   "metadata": {
    "colab": {
     "base_uri": "https://localhost:8080/"
    },
    "id": "PdO3gUjVLLBi",
    "outputId": "83d0fca2-321c-42af-8c98-0bc312745810"
   },
   "outputs": [
    {
     "data": {
      "text/plain": [
       "<enum 'PoseLandmark'>"
      ]
     },
     "execution_count": 38,
     "metadata": {},
     "output_type": "execute_result"
    }
   ],
   "source": [
    "mp_pose.PoseLandmark"
   ]
  },
  {
   "cell_type": "code",
   "execution_count": 39,
   "metadata": {
    "colab": {
     "base_uri": "https://localhost:8080/"
    },
    "id": "ld7TiFAZFswZ",
    "outputId": "79750129-c22c-4a99-d297-1eaec53f07c6"
   },
   "outputs": [
    {
     "name": "stdout",
     "output_type": "stream",
     "text": [
      "PoseLandmark.NOSE\n",
      "PoseLandmark.LEFT_EYE_INNER\n",
      "PoseLandmark.LEFT_EYE\n",
      "PoseLandmark.LEFT_EYE_OUTER\n",
      "PoseLandmark.RIGHT_EYE_INNER\n",
      "PoseLandmark.RIGHT_EYE\n",
      "PoseLandmark.RIGHT_EYE_OUTER\n",
      "PoseLandmark.LEFT_EAR\n",
      "PoseLandmark.RIGHT_EAR\n",
      "PoseLandmark.MOUTH_LEFT\n",
      "PoseLandmark.MOUTH_RIGHT\n",
      "PoseLandmark.LEFT_SHOULDER\n",
      "PoseLandmark.RIGHT_SHOULDER\n",
      "PoseLandmark.LEFT_ELBOW\n",
      "PoseLandmark.RIGHT_ELBOW\n",
      "PoseLandmark.LEFT_WRIST\n",
      "PoseLandmark.RIGHT_WRIST\n",
      "PoseLandmark.LEFT_PINKY\n",
      "PoseLandmark.RIGHT_PINKY\n",
      "PoseLandmark.LEFT_INDEX\n",
      "PoseLandmark.RIGHT_INDEX\n",
      "PoseLandmark.LEFT_THUMB\n",
      "PoseLandmark.RIGHT_THUMB\n",
      "PoseLandmark.LEFT_HIP\n",
      "PoseLandmark.RIGHT_HIP\n",
      "PoseLandmark.LEFT_KNEE\n",
      "PoseLandmark.RIGHT_KNEE\n",
      "PoseLandmark.LEFT_ANKLE\n",
      "PoseLandmark.RIGHT_ANKLE\n",
      "PoseLandmark.LEFT_HEEL\n",
      "PoseLandmark.RIGHT_HEEL\n",
      "PoseLandmark.LEFT_FOOT_INDEX\n",
      "PoseLandmark.RIGHT_FOOT_INDEX\n"
     ]
    }
   ],
   "source": [
    "for i in mp_pose.PoseLandmark:\n",
    "  print(i)"
   ]
  },
  {
   "cell_type": "code",
   "execution_count": 40,
   "metadata": {},
   "outputs": [
    {
     "data": {
      "text/plain": [
       "33"
      ]
     },
     "execution_count": 40,
     "metadata": {},
     "output_type": "execute_result"
    }
   ],
   "source": [
    "len(landmarks)"
   ]
  },
  {
   "cell_type": "code",
   "execution_count": 42,
   "metadata": {},
   "outputs": [
    {
     "data": {
      "text/plain": [
       "15"
      ]
     },
     "execution_count": 42,
     "metadata": {},
     "output_type": "execute_result"
    }
   ],
   "source": [
    "# this acts as an index\n",
    "mp_pose.PoseLandmark.LEFT_WRIST.value"
   ]
  },
  {
   "cell_type": "code",
   "execution_count": 41,
   "metadata": {},
   "outputs": [
    {
     "data": {
      "text/plain": [
       "x: 0.93498677\n",
       "y: 1.8053514\n",
       "z: -1.0772727\n",
       "visibility: 0.035172947"
      ]
     },
     "execution_count": 41,
     "metadata": {},
     "output_type": "execute_result"
    }
   ],
   "source": [
    "# landmarks is containing the processed image with landmark coordinates\n",
    "landmarks[mp_pose.PoseLandmark.LEFT_WRIST.value]"
   ]
  },
  {
   "cell_type": "code",
   "execution_count": 43,
   "metadata": {},
   "outputs": [
    {
     "data": {
      "text/plain": [
       "x: 0.970327\n",
       "y: 1.4543006\n",
       "z: -0.50764984\n",
       "visibility: 0.09461159"
      ]
     },
     "execution_count": 43,
     "metadata": {},
     "output_type": "execute_result"
    }
   ],
   "source": [
    "landmarks[mp_pose.PoseLandmark.LEFT_ELBOW.value]"
   ]
  },
  {
   "cell_type": "code",
   "execution_count": 44,
   "metadata": {},
   "outputs": [
    {
     "data": {
      "text/plain": [
       "x: 0.8031043\n",
       "y: 1.0015548\n",
       "z: -0.4280127\n",
       "visibility: 0.9920565"
      ]
     },
     "execution_count": 44,
     "metadata": {},
     "output_type": "execute_result"
    }
   ],
   "source": [
    "landmarks[mp_pose.PoseLandmark.LEFT_SHOULDER.value]"
   ]
  },
  {
   "cell_type": "markdown",
   "metadata": {},
   "source": [
    "## Calculating Angle"
   ]
  },
  {
   "cell_type": "code",
   "execution_count": 3,
   "metadata": {},
   "outputs": [],
   "source": [
    "def calculate_angle(a,b,c):\n",
    "#     a ,b,c - to store the x,y coord. of 3 landmarks(left shoulder, elbow,wrist)\n",
    "    a= np.array(a) #First\n",
    "    b= np.array(b) #Mid (angle will show up in the mid point)\n",
    "    c= np.array(c) #End\n",
    "    \n",
    "#   calc. the radians between these 3 landmarks\n",
    "    radians = np.arctan2(c[1] - b[1] , c[0] - b[0] ) - np.arctan2(a[1] - b[1],a[0] - b[0])\n",
    "#   converting it radian value to angle\n",
    "    angle = np.abs(radians*180.0/np.pi )\n",
    "#   angle cannot be greater than 180 so..\n",
    "    if angle>180.0:\n",
    "        angle = 360.0 - angle\n",
    "    \n",
    "    return angle\n",
    "    "
   ]
  },
  {
   "cell_type": "code",
   "execution_count": 4,
   "metadata": {},
   "outputs": [],
   "source": [
    "def calculate_angle(a,b,c):\n",
    "#     a ,b,c - to store the x,y coord. of 3 landmarks(left shoulder, elbow,wrist)\n",
    "    a= np.array(a) #First\n",
    "    b= np.array(b) #Mid (angle will show up in the mid point)\n",
    "    c= np.array(c) #End\n",
    "    \n",
    "#   calc. the radians between these 3 landmarks\n",
    "    radians = np.arctan2(c[1] - b[1] , c[0] - b[0] ) - np.arctan2(a[1] - b[1],a[0] - b[0])\n",
    "#   converting it radian value to angle\n",
    "    angle2 = np.abs(radians*180.0/np.pi )\n",
    "#   angle cannot be greater than 180 so..\n",
    "    if angle2>180.0:\n",
    "        angle2 = 360.0 - angle2\n",
    "    \n",
    "    return angle2\n",
    "    "
   ]
  },
  {
   "cell_type": "code",
   "execution_count": 5,
   "metadata": {},
   "outputs": [
    {
     "ename": "NameError",
     "evalue": "name 'shoulder1' is not defined",
     "output_type": "error",
     "traceback": [
      "\u001b[1;31m---------------------------------------------------------------------------\u001b[0m",
      "\u001b[1;31mNameError\u001b[0m                                 Traceback (most recent call last)",
      "Input \u001b[1;32mIn [5]\u001b[0m, in \u001b[0;36m<cell line: 1>\u001b[1;34m()\u001b[0m\n\u001b[1;32m----> 1\u001b[0m calculate_angle(\u001b[43mshoulder1\u001b[49m ,elbow1,wrist1)\n",
      "\u001b[1;31mNameError\u001b[0m: name 'shoulder1' is not defined"
     ]
    }
   ],
   "source": [
    "calculate_angle(shoulder1 ,elbow1,wrist1)\n"
   ]
  },
  {
   "cell_type": "code",
   "execution_count": 11,
   "metadata": {},
   "outputs": [],
   "source": [
    "\n",
    "# capture images from webcam \n",
    "cap = cv2.VideoCapture(0)\n",
    "with mp_pose.Pose(min_detection_confidence= 0.5 ,min_tracking_confidence= 0.5) as pose:\n",
    "  # loop to extract the images from camera \n",
    "  while cap.isOpened():\n",
    "    # frame stores the image from the camera\n",
    "    ret,frame = cap.read()\n",
    "\n",
    "    # recolor the image to RGB\n",
    "    image = cv2.cvtColor(frame,cv2.COLOR_BGR2RGB)\n",
    "    image.flags.writeable = False\n",
    "\n",
    "    # process the image (make detection)\n",
    "    results = pose.process(image)\n",
    "\n",
    "    # recolor the image back to BGR\n",
    "#     image = cv2.cvtColor(frame, cv2.COLOR_RGB2BGR)\n",
    "#     image.flags.writeable = True\n",
    "\n",
    "    # extract the landmarks - we use try & except because the cam. might not always capture the landmarks \n",
    "    try:\n",
    "      landmarks = results.pose_landmarks.landmark\n",
    "#     get coordinates of the landmarks \n",
    "      shoulder = [landmarks[mp_pose.PoseLandmark.LEFT_SHOULDER.value].x , landmarks[mp_pose.PoseLandmark.LEFT_SHOULDER.value].y]\n",
    "      elbow = [landmarks[mp_pose.PoseLandmark.LEFT_ELBOW.value].x , landmarks[mp_pose.PoseLandmark.LEFT_ELBOW.value].y]\n",
    "      wrist = [landmarks[mp_pose.PoseLandmark.LEFT_WRIST.value].x , landmarks[mp_pose.PoseLandmark.LEFT_WRIST.value].y]\n",
    "#     calculate angle\n",
    "      angle = calculate_angle(shoulder,elbow,wrist)\n",
    "#     Visualize angle\n",
    "      cv2.putText(image, str(angle), \n",
    "                 tuple(np.multiply(elbow, [640,480]).astype(int)), \n",
    "                 cv2.FONT_HERSHEY_SIMPLEX, 0.5, (255,255,255), 2,cv2.LINE_AA)\n",
    "    \n",
    "      cv2.putText(image, str(angle2), \n",
    "                 tuple(np.multiply(elbow, [640,480]).astype(int)), \n",
    "                 cv2.FONT_HERSHEY_SIMPLEX, 0.5, (255,255,255), 2,cv2.LINE_AA)\n",
    "    except:\n",
    "      pass\n",
    "\n",
    "    # render the image (1 -image , 2- coordinates of the landmarks , 3 - connection between these landmarks)\n",
    "    mp_drawing.draw_landmarks(image, results.pose_landmarks,mp_pose.POSE_CONNECTIONS,\n",
    "                              # drawing specification(joint) - color , thickness and radius of circle\n",
    "                              mp_drawing.DrawingSpec(color = (245,117,66) ,thickness = 2 ,circle_radius= 2),\n",
    "                              # drawin specification(connection) - color , thickness and radius of circle\n",
    "                              mp_drawing.DrawingSpec(color = (245,66,230) , thickness = 2, circle_radius =2)\n",
    "                              )\n",
    "\n",
    "\n",
    "    # shows the image \n",
    "    cv2.imshow('Video Feed',image)\n",
    "    # breaks the loop (no longer video capture): press q to close the feed \n",
    "    if cv2.waitKey(10) & 0xFF == ord('q'):\n",
    "      break\n",
    "\n",
    "  # after breaking the loop release the camera\n",
    "  cap.release()\n",
    "  # after releasing the camera close the pop-up window of webcam\n",
    "  cv2.destroyAllWindows()"
   ]
  },
  {
   "cell_type": "markdown",
   "metadata": {},
   "source": [
    "## Curl Counter"
   ]
  },
  {
   "cell_type": "code",
   "execution_count": 7,
   "metadata": {},
   "outputs": [
    {
     "name": "stdout",
     "output_type": "stream",
     "text": [
      "1\n",
      "2\n"
     ]
    }
   ],
   "source": [
    " # setting up counter \n",
    "counter = 0\n",
    "counter1=0\n",
    "# stage up or down\n",
    "stage = None\n",
    "stage1= None\n",
    "\n",
    "# capture images from webcam \n",
    "cap = cv2.VideoCapture(0)\n",
    "with mp_pose.Pose(min_detection_confidence= 0.5 ,min_tracking_confidence= 0.5) as pose:\n",
    "  # loop to extract the images from camera \n",
    "  while cap.isOpened():\n",
    "    # frame stores the image from the camera\n",
    "    ret,frame = cap.read()\n",
    "\n",
    "    # recolor the image to RGB\n",
    "    image = cv2.cvtColor(frame,cv2.COLOR_BGR2RGB)\n",
    "    image.flags.writeable = False\n",
    "\n",
    "    # process the image (make detection)\n",
    "    results = pose.process(image)\n",
    "\n",
    "    # recolor the image back to BGR\n",
    "    image.flags.writeable = True\n",
    "    image = cv2.cvtColor(image, cv2.COLOR_RGB2BGR)\n",
    "\n",
    "\n",
    "\n",
    "    # extract the landmarks - we use try & except because the cam. might not always capture the landmarks \n",
    "    try:\n",
    "      landmarks = results.pose_landmarks.landmark\n",
    "#     get coordinates of the landmarks \n",
    "      shoulder = [landmarks[mp_pose.PoseLandmark.LEFT_SHOULDER.value].x , landmarks[mp_pose.PoseLandmark.LEFT_SHOULDER.value].y]\n",
    "      elbow = [landmarks[mp_pose.PoseLandmark.LEFT_ELBOW.value].x , landmarks[mp_pose.PoseLandmark.LEFT_ELBOW.value].y]\n",
    "      wrist = [landmarks[mp_pose.PoseLandmark.LEFT_WRIST.value].x , landmarks[mp_pose.PoseLandmark.LEFT_WRIST.value].y]\n",
    "      shoulder1 = [landmarks[mp_pose.PoseLandmark.RIGHT_SHOULDER.value].x , landmarks[mp_pose.PoseLandmark.RIGHT_SHOULDER.value].y]\n",
    "      elbow1 = [landmarks[mp_pose.PoseLandmark.RIGHT_ELBOW.value].x , landmarks[mp_pose.PoseLandmark.RIGHT_ELBOW.value].y]\n",
    "      wrist1 = [landmarks[mp_pose.PoseLandmark.RIGHT_WRIST.value].x , landmarks[mp_pose.PoseLandmark.RIGHT_WRIST.value].y]\n",
    "#     calculate angle\n",
    "      angle = calculate_angle(shoulder,elbow,wrist)\n",
    "      angle2 = calculate_angle(shoulder1,elbow1,wrist1)\n",
    "#     Visualize angle\n",
    "      cv2.putText(image, str(angle), \n",
    "                 tuple(np.multiply(elbow, [640,480]).astype(int)), \n",
    "                 cv2.FONT_HERSHEY_SIMPLEX, 0.5, (255,255,255), 2,cv2.LINE_AA)\n",
    "      cv2.putText(image, str(angle2), \n",
    "                 tuple(np.multiply(elbow1, [640,480]).astype(int)), \n",
    "                 cv2.FONT_HERSHEY_SIMPLEX, 0.5, (255,255,255), 2,cv2.LINE_AA)\n",
    "#     curl counter logic  \n",
    "      if angle > 160 and angle2 >160:\n",
    "            stage ='down'\n",
    "            \n",
    "      if angle <30 and angle2 <30 and stage == 'down':\n",
    "        stage ='all up'\n",
    "        counter+=1\n",
    "        print(counter)\n",
    "      \n",
    "      if angle < 30 and angle2 >160 and stage == 'up':\n",
    "            stage ='left up'\n",
    "            counter+=1\n",
    "            print(counter)\n",
    "            \n",
    "      if angle2 <30 and angle >160 and stage == 'up':\n",
    "        stage = 'right up'\n",
    "        counter+=1\n",
    "        print(counter)\n",
    "        \n",
    "      if angle < 30 and angle2 >160 and stage == 'down':\n",
    "            stage ='left up'\n",
    "            counter+=1\n",
    "            print(counter)\n",
    "      if angle2 <30 and angle >160 and stage == 'down':\n",
    "        stage = 'right up'\n",
    "        counter+=1\n",
    "        print(counter)\n",
    "        \n",
    "\n",
    "    except:\n",
    "      pass\n",
    "\n",
    "#     render curl counter\n",
    "#     displaying the status of counter \n",
    "    cv2.rectangle(image,(0,0),(300,100),(245,117,16),-1)\n",
    "#     putting counter text in to the status box\n",
    "#   Rep data\n",
    "    cv2.putText(image,'REPS',(15,15),\n",
    "               cv2.FONT_HERSHEY_SIMPLEX, 0.5, (0,0,0) ,1, cv2.LINE_AA)\n",
    "    cv2.putText(image,str(counter),(10,80),\n",
    "               cv2.FONT_HERSHEY_SIMPLEX, 2, (255,255,255) ,3, cv2.LINE_AA)\n",
    "\n",
    "#     Stage data\n",
    "    cv2.putText(image,'Stage: ',(100,18),\n",
    "               cv2.FONT_HERSHEY_SIMPLEX, 0.5, (0,0,0) ,1, cv2.LINE_AA)\n",
    "    cv2.putText(image,stage,(150,20),\n",
    "               cv2.FONT_HERSHEY_SIMPLEX, 1, (255,255,255) ,2, cv2.LINE_AA)\n",
    "\n",
    "\n",
    "    # render the image (1 -image , 2- coordinates of the landmarks , 3 - connection between these landmarks)\n",
    "    mp_drawing.draw_landmarks(image, results.pose_landmarks,mp_pose.POSE_CONNECTIONS,\n",
    "                              # drawing specification(joint) - color , thickness and radius of circle\n",
    "                              mp_drawing.DrawingSpec(color = (245,117,66) ,thickness = 2 ,circle_radius= 2),\n",
    "                              # drawin specification(connection) - color , thickness and radius of circle\n",
    "                              mp_drawing.DrawingSpec(color = (245,66,230) , thickness = 2, circle_radius =2)\n",
    "                              )\n",
    "\n",
    "\n",
    "    # shows the image \n",
    "    cv2.imshow('Video Feed',image)\n",
    "    # breaks the loop (no longer video capture): press q to close the feed \n",
    "    if cv2.waitKey(10) & 0xFF == ord('q'):\n",
    "      break\n",
    "\n",
    "  # after breaking the loop release the camera\n",
    "  cap.release()\n",
    "  # after releasing the camera close the pop-up window of webcam\n",
    "  cv2.destroyAllWindows()"
   ]
  },
  {
   "cell_type": "code",
   "execution_count": null,
   "metadata": {},
   "outputs": [],
   "source": []
  }
 ],
 "metadata": {
  "colab": {
   "provenance": []
  },
  "kernelspec": {
   "display_name": "Python 3 (ipykernel)",
   "language": "python",
   "name": "python3"
  },
  "language_info": {
   "codemirror_mode": {
    "name": "ipython",
    "version": 3
   },
   "file_extension": ".py",
   "mimetype": "text/x-python",
   "name": "python",
   "nbconvert_exporter": "python",
   "pygments_lexer": "ipython3",
   "version": "3.9.12"
  }
 },
 "nbformat": 4,
 "nbformat_minor": 1
}
